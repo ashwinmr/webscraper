{
 "cells": [
  {
   "cell_type": "code",
   "execution_count": null,
   "metadata": {},
   "outputs": [],
   "source": [
    "import pandas as pd\n",
    "import wordcloud\n",
    "import matplotlib.pyplot as plt\n",
    "import requests\n",
    "from bs4 import BeautifulSoup\n",
    "from selenium.webdriver import Chrome\n",
    "import time"
   ]
  },
  {
   "cell_type": "code",
   "execution_count": null,
   "metadata": {},
   "outputs": [],
   "source": [
    "url = 'https://play.google.com/store/apps/details?id=it.rortos.airfighters&hl=en_IN&showAllReviews=true'"
   ]
  },
  {
   "cell_type": "code",
   "execution_count": null,
   "metadata": {},
   "outputs": [],
   "source": [
    "# # Scrape using requests (doesn't work for pages using JS)\n",
    "# r = requests.get(url)\n",
    "# soup = BeautifulSoup(r.text)\n",
    "# with open('temp/res.html','w',encoding=r.encoding) as f:\n",
    "#     f.write(r.text)"
   ]
  },
  {
   "cell_type": "code",
   "execution_count": null,
   "metadata": {},
   "outputs": [],
   "source": [
    "# Scrape using selenium and chrome driver to scrape pages that use JS\n",
    "\n",
    "webdriver = \"chromedriver.exe\"\n",
    "driver = Chrome(webdriver)\n",
    "driver.get(url)\n",
    "\n",
    "SCROLL_PAUSE_TIME = 0.5\n",
    "\n",
    "# Get scroll height\n",
    "last_height = driver.execute_script(\"return document.body.scrollHeight\")\n",
    "\n",
    "while True:\n",
    "    # Scroll down to bottom\n",
    "    driver.execute_script(\"window.scrollTo(0, document.body.scrollHeight);\")\n",
    "\n",
    "    # Wait to load page\n",
    "    time.sleep(SCROLL_PAUSE_TIME)\n",
    "\n",
    "    # Calculate new scroll height and compare with last scroll height\n",
    "    new_height = driver.execute_script(\"return document.body.scrollHeight\")\n",
    "    if new_height == last_height:\n",
    "        break\n",
    "    last_height = new_height\n",
    "    \n",
    "# Get all html and close\n",
    "html = driver.page_source\n",
    "driver.close()\n",
    "soup = BeautifulSoup(html)\n",
    "\n",
    "with open('temp/res.html','w',encoding='utf-8') as f:\n",
    "    f.write(html)"
   ]
  },
  {
   "cell_type": "code",
   "execution_count": null,
   "metadata": {},
   "outputs": [],
   "source": [
    "# Get required data from soup\n",
    "ratings = []\n",
    "reviews = []\n",
    "\n",
    "review_blocks = soup.find_all('div',class_ = 'd15Mdf bAhLNe')\n",
    "for review_block in review_blocks:\n",
    "    review = review_block.find('span',jsname = 'bN97Pc').find(text=True)\n",
    "    reviews.append(review)\n",
    "    rating_string = review_block.find('div', class_ = 'pf5lIe').contents[0]['aria-label']\n",
    "    rating = int(rating_string[6])\n",
    "    ratings.append(rating)\n"
   ]
  },
  {
   "cell_type": "code",
   "execution_count": null,
   "metadata": {},
   "outputs": [],
   "source": [
    "# Save to csv\n",
    "df = pd.DataFrame({'rating' : ratings, 'review' : reviews})\n",
    "df.to_csv('temp/reviews.csv', index=False)"
   ]
  },
  {
   "cell_type": "code",
   "execution_count": null,
   "metadata": {},
   "outputs": [],
   "source": [
    "# Load review data\n",
    "df = pd.read_csv('temp/reviews.csv')"
   ]
  },
  {
   "cell_type": "code",
   "execution_count": null,
   "metadata": {},
   "outputs": [],
   "source": [
    "# Compile text\n",
    "text1 = \" \".join(review for review in df.loc[df['rating']==1]['review'])\n",
    "text5 = \" \".join(review for review in df.loc[df['rating']==5]['review'])\n",
    "if text1:\n",
    "    wc1 = wordcloud.WordCloud(background_color=\"white\").generate(text1)\n",
    "else:\n",
    "    wc1 = None\n",
    "if text5:\n",
    "    wc5 = wordcloud.WordCloud(background_color=\"white\").generate(text5)\n",
    "else:\n",
    "    wc5 = None"
   ]
  },
  {
   "cell_type": "code",
   "execution_count": null,
   "metadata": {},
   "outputs": [],
   "source": [
    "# Plot\n",
    "\n",
    "plt.rcParams[\"figure.figsize\"] = (15,10)\n",
    "\n",
    "if wc1:\n",
    "    plt.figure()\n",
    "    plt.imshow(wc1)\n",
    "    plt.axis('off')\n",
    "    plt.title('1 start reviews')\n",
    "\n",
    "if wc5:\n",
    "    plt.figure()\n",
    "    plt.imshow(wc5)\n",
    "    plt.axis('off')\n",
    "    plt.title('5 start reviews')\n",
    "    "
   ]
  },
  {
   "cell_type": "code",
   "execution_count": null,
   "metadata": {},
   "outputs": [],
   "source": []
  }
 ],
 "metadata": {
  "kernelspec": {
   "display_name": "Python 3",
   "language": "python",
   "name": "python3"
  },
  "language_info": {
   "codemirror_mode": {
    "name": "ipython",
    "version": 3
   },
   "file_extension": ".py",
   "mimetype": "text/x-python",
   "name": "python",
   "nbconvert_exporter": "python",
   "pygments_lexer": "ipython3",
   "version": "3.7.5"
  }
 },
 "nbformat": 4,
 "nbformat_minor": 2
}

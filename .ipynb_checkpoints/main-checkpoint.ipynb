{
 "cells": [
  {
   "cell_type": "code",
   "execution_count": null,
   "metadata": {},
   "outputs": [],
   "source": [
    "import pandas as pd\n",
    "import wordcloud\n",
    "import matplotlib.pyplot as plt"
   ]
  },
  {
   "cell_type": "code",
   "execution_count": null,
   "metadata": {},
   "outputs": [],
   "source": [
    "# Load review data\n",
    "df = pd.read_csv('reviews.csv')"
   ]
  },
  {
   "cell_type": "code",
   "execution_count": null,
   "metadata": {},
   "outputs": [],
   "source": [
    "# Compile text\n",
    "text1 = \" \".join(review for review in df.loc[df['rating']==1]['review'])\n",
    "text5 = \" \".join(review for review in df.loc[df['rating']==5]['review'])\n",
    "if text1:\n",
    "    wc1 = wordcloud.WordCloud(background_color=\"white\").generate(text1)\n",
    "else:\n",
    "    wc1 = None\n",
    "if text5:\n",
    "    wc5 = wordcloud.WordCloud(background_color=\"white\").generate(text5)\n",
    "else:\n",
    "    wc5 = None"
   ]
  },
  {
   "cell_type": "code",
   "execution_count": null,
   "metadata": {},
   "outputs": [],
   "source": [
    "# Plot\n",
    "\n",
    "plt.rcParams[\"figure.figsize\"] = (15,10)\n",
    "\n",
    "if wc1:\n",
    "    plt.figure()\n",
    "    plt.imshow(wc1)\n",
    "    plt.axis('off')\n",
    "    plt.title('1 start reviews')\n",
    "\n",
    "if wc5:\n",
    "    plt.figure()\n",
    "    plt.imshow(wc5)\n",
    "    plt.axis('off')\n",
    "    plt.title('5 start reviews')\n",
    "    "
   ]
  },
  {
   "cell_type": "code",
   "execution_count": null,
   "metadata": {},
   "outputs": [],
   "source": []
  }
 ],
 "metadata": {
  "kernelspec": {
   "display_name": "Python 3",
   "language": "python",
   "name": "python3"
  },
  "language_info": {
   "codemirror_mode": {
    "name": "ipython",
    "version": 3
   },
   "file_extension": ".py",
   "mimetype": "text/x-python",
   "name": "python",
   "nbconvert_exporter": "python",
   "pygments_lexer": "ipython3",
   "version": "3.7.5"
  }
 },
 "nbformat": 4,
 "nbformat_minor": 2
}
